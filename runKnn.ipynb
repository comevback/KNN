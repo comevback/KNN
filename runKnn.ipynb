{
 "cells": [
  {
   "cell_type": "code",
   "execution_count": 1,
   "metadata": {},
   "outputs": [],
   "source": [
    "import numpy as np\n",
    "from os import listdir\n",
    "from matplotlib import pyplot as plt\n",
    "from PIL import Image\n",
    "from collections import Counter\n",
    "from math import sqrt\n",
    "import time"
   ]
  },
  {
   "cell_type": "markdown",
   "metadata": {},
   "source": [
    "## 定义路径和文件"
   ]
  },
  {
   "cell_type": "code",
   "execution_count": 2,
   "metadata": {},
   "outputs": [],
   "source": [
    "path = 'D:/mnist_data/'\n",
    "fle = 'D:/b/7.62.jpg'"
   ]
  },
  {
   "cell_type": "markdown",
   "metadata": {},
   "source": [
    "## 图片文件转01向量"
   ]
  },
  {
   "cell_type": "code",
   "execution_count": 3,
   "metadata": {},
   "outputs": [],
   "source": [
    "def jpg2arr(file):\n",
    "    ima = Image.open(file)\n",
    "    ima_arr = np.array(ima)\n",
    "    ima_arr_fla = ima_arr.flatten()\n",
    "    ima_01=np.zeros(784,int)\n",
    "    ima_01=np.where(ima_arr_fla>100,1,0)\n",
    "    #print (ima_01)\n",
    "    return ima_01"
   ]
  },
  {
   "cell_type": "markdown",
   "metadata": {},
   "source": [
    "## 函数：目录转成数据集和标签集"
   ]
  },
  {
   "cell_type": "code",
   "execution_count": 4,
   "metadata": {},
   "outputs": [],
   "source": [
    "def getTrain(path):\n",
    "    file_list = listdir(path) \n",
    "    train_data = np.zeros([len(file_list),784],int)\n",
    "    train_label = np.zeros([len(file_list)],int)\n",
    "    for i, item in enumerate(file_list):\n",
    "        c=jpg2arr(path+item)\n",
    "        d=item.split('.')[0]\n",
    "        train_data[i] = c\n",
    "        train_label[i] = d\n",
    "    return train_data, train_label\n",
    "#start = time.time()\n",
    "all_data,all_label = getTrain(path)\n",
    "#end = time.time()\n",
    "#print(\"KNN run %d mins %0.2f sec\"%(int((end-start)/60),(end-start)%60))\n",
    "#np.savetxt('all_data.txt',all_data)\n",
    "#np.savetxt('all_label.txt',all_label)"
   ]
  },
  {
   "cell_type": "markdown",
   "metadata": {},
   "source": [
    "## 函数：数据标签集分成训练和测试集"
   ]
  },
  {
   "cell_type": "code",
   "execution_count": 5,
   "metadata": {},
   "outputs": [],
   "source": [
    "def train_test_split(all_data,all_label,seed = None):\n",
    "    if seed:\n",
    "        np.random.seed(seed)\n",
    "    rad = np.random.permutation(len(all_data))\n",
    "    #print(rad)\n",
    "    test_radio = 0.1\n",
    "    test_size = int(len(all_data)*test_radio)\n",
    "    #print(test_size)\n",
    "    test_indexs = rad[:test_size]\n",
    "    train_indexs = rad[test_size:]\n",
    "    test_data = all_data[test_indexs]\n",
    "    test_label = all_label[test_indexs]\n",
    "    train_data = all_data[train_indexs]\n",
    "    train_label = all_label[train_indexs]\n",
    "    return train_data,train_label,test_data,test_label"
   ]
  },
  {
   "cell_type": "markdown",
   "metadata": {},
   "source": [
    "##  调用KNN类实例化"
   ]
  },
  {
   "cell_type": "code",
   "execution_count": 6,
   "metadata": {},
   "outputs": [
    {
     "data": {
      "text/plain": [
       "KNN  (k=3) "
      ]
     },
     "execution_count": 6,
     "metadata": {},
     "output_type": "execute_result"
    }
   ],
   "source": [
    "all_data,all_label = getTrain(path)\n",
    "%run KNN.ipynb\n",
    "kfl = KNNclassifier(k=3)\n",
    "train_data,train_label,test_data,test_label = train_test_split(all_data,all_label,seed=None)\n",
    "kfl.fit(train_data,train_label)"
   ]
  },
  {
   "cell_type": "markdown",
   "metadata": {},
   "source": [
    "## 输出单文件预测结果"
   ]
  },
  {
   "cell_type": "code",
   "execution_count": 7,
   "metadata": {},
   "outputs": [
    {
     "name": "stdout",
     "output_type": "stream",
     "text": [
      "7\n"
     ]
    }
   ],
   "source": [
    "#%run KNN.ipynb\n",
    "imga = jpg2arr(fle)\n",
    "rt = kfl._predict(imga)\n",
    "print(rt)"
   ]
  },
  {
   "cell_type": "markdown",
   "metadata": {},
   "source": [
    "# 输出多文件预测结果，对比结果，输出运行时间及准确率"
   ]
  },
  {
   "cell_type": "code",
   "execution_count": 8,
   "metadata": {
    "scrolled": true
   },
   "outputs": [
    {
     "name": "stdout",
     "output_type": "stream",
     "text": [
      "[6 6 8 ... 3 7 5]\n",
      "[6 6 8 ... 3 7 5]\n",
      "KNN run 18 mins 53.34 sec\n",
      "the Accuracy rate is 0.96\n"
     ]
    }
   ],
   "source": [
    "#%run KNN.ipynb\n",
    "all_data,all_label = getTrain(path)\n",
    "train_data,train_label,test_data,test_label = train_test_split(all_data,all_label,seed=None)\n",
    "kfl = KNNclassifier(k=3)\n",
    "start = time.time()\n",
    "kfl.fit(train_data,train_label)\n",
    "result = kfl.predict(test_data)\n",
    "end = time.time()\n",
    "print(result)\n",
    "print(test_label)                                                                            \n",
    "print(\"KNN run %d mins %0.2f sec\"%(int((end-start)/60),(end-start)%60))\n",
    "print(\"the Accuracy rate is %0.2f\"%sum((result == test_label)/len(test_label)))"
   ]
  },
  {
   "cell_type": "markdown",
   "metadata": {},
   "source": [
    "## 函数：单次计算"
   ]
  },
  {
   "cell_type": "code",
   "execution_count": 9,
   "metadata": {},
   "outputs": [],
   "source": [
    "def go(k):\n",
    "    all_data,all_label = getTrain(path)\n",
    "    train_data,train_label,test_data,test_label = train_test_split(all_data,all_label,seed=None)\n",
    "    kfl = KNNclassifier(k=k)\n",
    "    start = time.time()\n",
    "    kfl.fit(train_data,train_label)\n",
    "    result = kfl.predict(test_data)\n",
    "    end = time.time()\n",
    "    #print(result)\n",
    "    #print(test_label)                                                                            \n",
    "    #print(\"KNN run %d mins %0.2f sec\"%(int((end-start)/60),(end-start)%60))\n",
    "    #print(\"the Accuracy rate is %0.2f\"%sum((result == test_label)/len(test_label)))\n",
    "    ru = sum((result == test_label)/len(test_label))\n",
    "    return ru "
   ]
  },
  {
   "cell_type": "markdown",
   "metadata": {},
   "source": [
    "## 函数：根据运行次数和K值统计"
   ]
  },
  {
   "cell_type": "code",
   "execution_count": 10,
   "metadata": {},
   "outputs": [],
   "source": [
    "def stas(tms,k):\n",
    "    T = []\n",
    "    for i in range(tms):\n",
    "        ru = go(k)\n",
    "        T.append(ru)\n",
    "    print (\"the Accuracy rate is %0.2f\"%(sum(T)/len(T)))"
   ]
  },
  {
   "cell_type": "markdown",
   "metadata": {},
   "source": [
    "## 重复运行，统计平均准确率"
   ]
  },
  {
   "cell_type": "code",
   "execution_count": null,
   "metadata": {},
   "outputs": [],
   "source": [
    "stas(tms=3,k=4)"
   ]
  },
  {
   "cell_type": "code",
   "execution_count": null,
   "metadata": {},
   "outputs": [],
   "source": []
  }
 ],
 "metadata": {
  "kernelspec": {
   "display_name": "Python 3",
   "language": "python",
   "name": "python3"
  },
  "language_info": {
   "codemirror_mode": {
    "name": "ipython",
    "version": 3
   },
   "file_extension": ".py",
   "mimetype": "text/x-python",
   "name": "python",
   "nbconvert_exporter": "python",
   "pygments_lexer": "ipython3",
   "version": "3.7.4"
  }
 },
 "nbformat": 4,
 "nbformat_minor": 2
}
