{
 "cells": [
  {
   "cell_type": "code",
   "execution_count": 1,
   "metadata": {},
   "outputs": [],
   "source": [
    "import numpy as np\n",
    "from math import sqrt\n",
    "from collections import Counter"
   ]
  },
  {
   "cell_type": "code",
   "execution_count": 4,
   "metadata": {},
   "outputs": [],
   "source": [
    "class KNNclassifier():\n",
    "    def __init__(self,k):\n",
    "        self.k = k\n",
    "        self._train_data = None\n",
    "        self._train_label = None\n",
    "    \n",
    "    def fit(self,train_data,train_label):\n",
    "        self._train_data = train_data\n",
    "        self._train_label = train_label\n",
    "        return self\n",
    "    def _predict(self,x):\n",
    "        distances = [sqrt(np.sum((_train_datas-x)**2)) for _train_datas in self._train_data]\n",
    "        nearest = np.argsort(distances)\n",
    "        topK_y = [self._train_label[i] for i in nearest[:self.k]]\n",
    "        votes = Counter(topK_y)\n",
    "        predict = votes.most_common(1)[0][0]\n",
    "        return predict\n",
    "    def predict(self,test_date):\n",
    "        afe = [self._predict(x) for x in test_date]\n",
    "        return np.array(afe)\n",
    "    def __repr__(self):\n",
    "        return \"KNN  (k=%d) \"%self.k\n",
    "        "
   ]
  },
  {
   "cell_type": "code",
   "execution_count": null,
   "metadata": {},
   "outputs": [],
   "source": []
  },
  {
   "cell_type": "code",
   "execution_count": null,
   "metadata": {},
   "outputs": [],
   "source": []
  }
 ],
 "metadata": {
  "kernelspec": {
   "display_name": "Python 3",
   "language": "python",
   "name": "python3"
  },
  "language_info": {
   "codemirror_mode": {
    "name": "ipython",
    "version": 3
   },
   "file_extension": ".py",
   "mimetype": "text/x-python",
   "name": "python",
   "nbconvert_exporter": "python",
   "pygments_lexer": "ipython3",
   "version": "3.7.4"
  }
 },
 "nbformat": 4,
 "nbformat_minor": 2
}
